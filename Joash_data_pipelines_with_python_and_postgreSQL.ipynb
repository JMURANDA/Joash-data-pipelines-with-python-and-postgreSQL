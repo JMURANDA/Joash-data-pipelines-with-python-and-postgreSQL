{
  "nbformat": 4,
  "nbformat_minor": 0,
  "metadata": {
    "colab": {
      "provenance": []
    },
    "kernelspec": {
      "name": "python3",
      "display_name": "Python 3"
    },
    "language_info": {
      "name": "python"
    }
  },
  "cells": [
    {
      "cell_type": "code",
      "source": [
        "import pandas as pd\n",
        "import numpy as np\n",
        "import psycopg2"
      ],
      "metadata": {
        "id": "drgV8g9YW6Aa"
      },
      "execution_count": 22,
      "outputs": []
    },
    {
      "cell_type": "markdown",
      "source": [
        "Data extractrion"
      ],
      "metadata": {
        "id": "JvlZF3WFYf4v"
      }
    },
    {
      "cell_type": "code",
      "source": [
        "equipment_data = pd.read_csv('/content/equipment_sensor.csv')\n",
        "network_data = pd.read_csv('/content/maintenance_records.csv')\n",
        "maintenance_data = pd.read_csv('/content/network_sensor.csv')"
      ],
      "metadata": {
        "id": "O0fn9sfmY-HP"
      },
      "execution_count": 23,
      "outputs": []
    },
    {
      "cell_type": "markdown",
      "source": [
        "Data transformation "
      ],
      "metadata": {
        "id": "hEQI5bTwaXFB"
      }
    },
    {
      "cell_type": "code",
      "source": [
        "# Remove duplicates from equipment data\n",
        "equipment_data = equipment_data.drop_duplicates()\n",
        "\n",
        "# Fix missing data in equipment data\n",
        "equipment_data = equipment_data.fillna(method='ffill')\n",
        "\n",
        "# Normalize the sensor reading in equipment data\n",
        "equipment_data['sensor_reading'] = (equipment_data['sensor_reading'] - equipment_data['sensor_reading'].mean()) / equipment_data['sensor_reading'].std()"
      ],
      "metadata": {
        "id": "AtJtGPGOacvy"
      },
      "execution_count": 24,
      "outputs": []
    },
    {
      "cell_type": "code",
      "source": [
        "# Aggregate the equipment data to get the total number of equipment failures\n",
        "equipment_failures = equipment_data.groupby(['ID']).size().reset_index(name='total_failures')\n",
        "\n",
        "# Aggregate the equipment data to get the average time between failures\n",
        "equipment_data['datetime'] = pd.to_datetime(equipment_data['date'] + ' ' + equipment_data['time'])\n",
        "equipment_data['time_between_failures'] = equipment_data.groupby(['ID'])['datetime'].diff()\n",
        "equipment_data['time_between_failures'] = equipment_data['time_between_failures'].dt.total_seconds() / 3600\n",
        "equipment_avg_time_between_failures = equipment_data.groupby(['ID'])['time_between_failures'].mean().reset_index(name='avg_time_between_failures')"
      ],
      "metadata": {
        "id": "Ec_DM9K7bj7I"
      },
      "execution_count": 25,
      "outputs": []
    },
    {
      "cell_type": "code",
      "source": [
        "# Join the datasets\n",
        "df_joined = pd.concat([equipment_data, network_data, maintenance_data], axis=0)\n"
      ],
      "metadata": {
        "id": "Abg9JPb2dEkO"
      },
      "execution_count": 53,
      "outputs": []
    },
    {
      "cell_type": "code",
      "source": [
        "#Data loading to postgreSQL database \n",
        "!curl ipecho.net/plain"
      ],
      "metadata": {
        "colab": {
          "base_uri": "https://localhost:8080/"
        },
        "id": "fEp_Jul05Fl6",
        "outputId": "b0c09f8d-8a17-4abf-d2d8-afe2196db127"
      },
      "execution_count": 37,
      "outputs": [
        {
          "output_type": "stream",
          "name": "stdout",
          "text": [
            "35.204.158.204"
          ]
        }
      ]
    },
    {
      "cell_type": "code",
      "source": [
        "pip install psycopg2"
      ],
      "metadata": {
        "colab": {
          "base_uri": "https://localhost:8080/"
        },
        "id": "LLcMVapB52jq",
        "outputId": "c38d5b67-03a3-49d3-cb7f-9fda77ffc7c2"
      },
      "execution_count": 32,
      "outputs": [
        {
          "output_type": "stream",
          "name": "stdout",
          "text": [
            "Looking in indexes: https://pypi.org/simple, https://us-python.pkg.dev/colab-wheels/public/simple/\n",
            "Requirement already satisfied: psycopg2 in /usr/local/lib/python3.9/dist-packages (2.9.5)\n"
          ]
        }
      ]
    },
    {
      "cell_type": "code",
      "source": [
        "import psycopg2"
      ],
      "metadata": {
        "id": "pl-QAa_7FqbU"
      },
      "execution_count": 39,
      "outputs": []
    },
    {
      "cell_type": "code",
      "source": [
        "conn = psycopg2.connect(\n",
        "    host=\"34.176.59.243\",\n",
        "    database=\"post\",\n",
        "    user=\"postgresqlproject1\",\n",
        "    password=\"123456\"\n",
        ")"
      ],
      "metadata": {
        "id": "9n1aCnN4F7IF"
      },
      "execution_count": 54,
      "outputs": []
    },
    {
      "cell_type": "code",
      "source": [
        "# create a cursor object\n",
        "cur = conn.cursor()\n",
        "df_joined.to_sql(name=\"equipment_sensor,maintenance_records,network_sensor\", con=conn, if_exists=\"append\", index=False)\n",
        "cur.close()\n",
        "conn.close()"
      ],
      "metadata": {
        "id": "-EI1HdSdPLKq"
      },
      "execution_count": null,
      "outputs": []
    }
  ]
}